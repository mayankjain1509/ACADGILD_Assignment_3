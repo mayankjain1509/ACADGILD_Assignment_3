{
 "cells": [
  {
   "cell_type": "markdown",
   "metadata": {},
   "source": [
    "# ASSIGNMENT NO 3 (Task 1) "
   ]
  },
  {
   "cell_type": "code",
   "execution_count": null,
   "metadata": {},
   "outputs": [],
   "source": [
    "## Question No.1\n",
    "# Write a function to compute 5/0 and use try/except to catch the exceptions."
   ]
  },
  {
   "cell_type": "code",
   "execution_count": 26,
   "metadata": {},
   "outputs": [],
   "source": [
    "def divide_function(x,y):\n",
    "    \n",
    "    try:\n",
    "        z = x/y\n",
    "        print(\"Number is valid\")        \n",
    "        \n",
    "    except:\n",
    "        y=0\n",
    "        print(\"Denominator value is zero\")"
   ]
  },
  {
   "cell_type": "code",
   "execution_count": 27,
   "metadata": {},
   "outputs": [
    {
     "name": "stdout",
     "output_type": "stream",
     "text": [
      "Denominator value is zero\n"
     ]
    }
   ],
   "source": [
    "divide_function(5,0)"
   ]
  },
  {
   "cell_type": "code",
   "execution_count": null,
   "metadata": {},
   "outputs": [],
   "source": [
    "## Question No.2 \n",
    "# Implement a Python program to generate all sentences where subject is in [\"Americans\",\"Indians\"] and verb is in\n",
    "# [\"Play\", \"watch\"] and the object is in [\"Baseball\",\"cricket\"]."
   ]
  },
  {
   "cell_type": "code",
   "execution_count": 8,
   "metadata": {},
   "outputs": [
    {
     "name": "stdout",
     "output_type": "stream",
     "text": [
      " American play Baseball.\n",
      " American play Cricket.\n",
      " American watch Baseball.\n",
      " American watch Cricket.\n",
      " Indians play Baseball.\n",
      " Indians play Cricket.\n",
      " Indians watch Baseball.\n",
      " Indians watch Cricket.\n"
     ]
    }
   ],
   "source": [
    "subject = [\" American\",\" Indians\"]\n",
    "verbs = [\" play\",\" watch\"]\n",
    "objects = [\" Baseball.\",\" Cricket.\"]\n",
    "\n",
    "x = [i+j+k for i in subject for j in verbs for k in objects]\n",
    "\n",
    "for y in x:\n",
    "    print(y)"
   ]
  },
  {
   "cell_type": "code",
   "execution_count": 29,
   "metadata": {},
   "outputs": [
    {
     "name": "stdout",
     "output_type": "stream",
     "text": [
      " American play Baseball.\n",
      " American play Cricket.\n",
      " American watch Baseball.\n",
      " American watch Cricket.\n",
      " Indians play Baseball.\n",
      " Indians play Cricket.\n",
      " Indians watch Baseball.\n",
      " Indians watch Cricket.\n"
     ]
    }
   ],
   "source": [
    "# Other Method\n",
    "\n",
    "subject = [\" American\",\" Indians\"]\n",
    "verbs = [\" play\",\" watch\"]\n",
    "objects = [\" Baseball.\",\" Cricket.\"]\n",
    "\n",
    "x = [''.join([i,j,k]) for i in subject for j in verbs for k in objects]\n",
    "\n",
    "for y in x:\n",
    "    print(y)"
   ]
  },
  {
   "cell_type": "markdown",
   "metadata": {},
   "source": [
    "# TASK 2"
   ]
  },
  {
   "cell_type": "code",
   "execution_count": null,
   "metadata": {},
   "outputs": [],
   "source": [
    "Question 1:\n",
    "\n",
    "# Write a function so that the columns of the output matrix are power of the input vector . The Order of the powers is\n",
    "# determined by the increasing boolean argument. specially, when increasing is False, the output column is the input vector \n",
    "# raised element wise to the power of N-i-1."
   ]
  },
  {
   "cell_type": "code",
   "execution_count": 6,
   "metadata": {},
   "outputs": [
    {
     "data": {
      "text/plain": [
       "array([[    1,     1,     1,     1,     1,     1,     1],\n",
       "       [   64,    32,    16,     8,     4,     2,     1],\n",
       "       [  729,   243,    81,    27,     9,     3,     1],\n",
       "       [15625,  3125,   625,   125,    25,     5,     1]], dtype=int32)"
      ]
     },
     "execution_count": 6,
     "metadata": {},
     "output_type": "execute_result"
    }
   ],
   "source": [
    "import numpy as np\n",
    "\n",
    "x = np.array([1, 2, 3, 5])\n",
    "N = 7\n",
    "\n",
    "np.column_stack([x**(N-i-1) for i in range(N)])"
   ]
  }
 ],
 "metadata": {
  "kernelspec": {
   "display_name": "Python 3",
   "language": "python",
   "name": "python3"
  },
  "language_info": {
   "codemirror_mode": {
    "name": "ipython",
    "version": 3
   },
   "file_extension": ".py",
   "mimetype": "text/x-python",
   "name": "python",
   "nbconvert_exporter": "python",
   "pygments_lexer": "ipython3",
   "version": "3.6.4"
  }
 },
 "nbformat": 4,
 "nbformat_minor": 2
}
